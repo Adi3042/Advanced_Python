{
 "cells": [
  {
   "cell_type": "code",
   "execution_count": null,
   "id": "6e940e32-5306-4563-8e3b-43baccaff253",
   "metadata": {},
   "outputs": [],
   "source": [
    "\"\"\"\n",
    "    Q1. What is Abstraction in OOps? Explain with an example.\n",
    "\n",
    "    Abstraction in Object-Oriented Programming (OOPs) is a concept of showing only essential information and hiding\n",
    "    implementation details of an object from the user. It is a way to reduce complexity by breaking down a large \n",
    "    system into smaller, more manageable components, and focuses on the essential features of an object that are \n",
    "    relevant to the problem being solved.\n",
    "    \n",
    "\"\"\""
   ]
  },
  {
   "cell_type": "code",
   "execution_count": null,
   "id": "a4a5a2d2-e21c-430c-98d2-0ee98a311d83",
   "metadata": {},
   "outputs": [],
   "source": [
    "#Q2. Differentiate between Abstraction and Encapsulation. Explain with an example.\n",
    "\n",
    "\"\"\"\n",
    "    Abstraction and Encapsulation are two important concepts in object-oriented programming, and although they are related, \n",
    "    they are not the same thing.\n",
    "\n",
    "    Abstraction is the process of hiding implementation details and only exposing essential features of an object to the user. \n",
    "    Abstraction is achieved using abstract classes, interfaces, and methods. The user does not need to know how the object works internally, \n",
    "    only how to use it.\n",
    "\n",
    "    Encapsulation, on the other hand, is the process of bundling data and methods that operate on that data within a single unit, i.e., a class. \n",
    "    Encapsulation allows the data to be protected from unauthorized access from outside the class. The user can only interact with the object \n",
    "    through its public methods.\n",
    "\"\"\""
   ]
  },
  {
   "cell_type": "code",
   "execution_count": 12,
   "id": "bf2033dc-0125-40c8-b460-9688e372091d",
   "metadata": {},
   "outputs": [
    {
     "name": "stdout",
     "output_type": "stream",
     "text": [
      "Circle area: 78.5\n",
      "Circle perimeter: 31.400000000000002\n"
     ]
    }
   ],
   "source": [
    "# Example : Abstraction\n",
    "\n",
    "from abc import ABC, abstractmethod\n",
    "\n",
    "class Shape(ABC):\n",
    "    @abstractmethod\n",
    "    def area(self):\n",
    "        pass\n",
    "\n",
    "    @abstractmethod\n",
    "    def perimeter(self):\n",
    "        pass\n",
    "\n",
    "class Circle(Shape):\n",
    "    def __init__(self, radius):\n",
    "        self.radius = radius\n",
    "\n",
    "    def area(self):\n",
    "        return 3.14 * (self.radius ** 2)\n",
    "\n",
    "    def perimeter(self):\n",
    "        return 2 * 3.14 * self.radius\n",
    "\n",
    "my_circle = Circle(5)\n",
    "print(\"Circle area:\", my_circle.area())\n",
    "print(\"Circle perimeter:\", my_circle.perimeter())"
   ]
  },
  {
   "cell_type": "code",
   "execution_count": 13,
   "id": "ce8a72c3-2985-4ace-9ad5-11846554e66c",
   "metadata": {},
   "outputs": [],
   "source": [
    "# Example : Encapsulation\n",
    "\n",
    "class BankAccount:\n",
    "    def __init__(self, account_number, balance):\n",
    "        self.__account_number = account_number\n",
    "        self.__balance = balance\n",
    "\n",
    "    def deposit(self, amount):\n",
    "        self.__balance += amount\n",
    "\n",
    "    def withdraw(self, amount):\n",
    "        if self.__balance >= amount:\n",
    "            self.__balance -= amount\n",
    "\n",
    "    def get_balance(self):\n",
    "        return self.__balance"
   ]
  },
  {
   "cell_type": "code",
   "execution_count": 21,
   "id": "9c6da741-98f0-4565-af5a-da1510e0d6dc",
   "metadata": {},
   "outputs": [
    {
     "ename": "AttributeError",
     "evalue": "'BankAccount' object has no attribute '__account_number'",
     "output_type": "error",
     "traceback": [
      "\u001b[0;31m---------------------------------------------------------------------------\u001b[0m",
      "\u001b[0;31mAttributeError\u001b[0m                            Traceback (most recent call last)",
      "Cell \u001b[0;32mIn[21], line 3\u001b[0m\n\u001b[1;32m      1\u001b[0m my_account \u001b[38;5;241m=\u001b[39m BankAccount(\u001b[38;5;124m\"\u001b[39m\u001b[38;5;124m123456789\u001b[39m\u001b[38;5;124m\"\u001b[39m, \u001b[38;5;241m10000\u001b[39m)\n\u001b[1;32m      2\u001b[0m \u001b[38;5;66;03m# try to access the account number directly (will result in an error)\u001b[39;00m\n\u001b[0;32m----> 3\u001b[0m \u001b[38;5;28mprint\u001b[39m(\u001b[38;5;124m\"\u001b[39m\u001b[38;5;124mAccount number:\u001b[39m\u001b[38;5;124m\"\u001b[39m, \u001b[43mmy_account\u001b[49m\u001b[38;5;241;43m.\u001b[39;49m\u001b[43m__account_number\u001b[49m)\n",
      "\u001b[0;31mAttributeError\u001b[0m: 'BankAccount' object has no attribute '__account_number'"
     ]
    }
   ],
   "source": [
    "my_account = BankAccount(\"123456789\", 10000)\n",
    "# try to access the account number directly (will result in an error)\n",
    "print(\"Account number:\", my_account.__account_number)"
   ]
  },
  {
   "cell_type": "code",
   "execution_count": 22,
   "id": "949aaf21-eedc-4307-a39c-ef869d75ca34",
   "metadata": {},
   "outputs": [
    {
     "name": "stdout",
     "output_type": "stream",
     "text": [
      "Account balance: 6500\n"
     ]
    }
   ],
   "source": [
    "my_account.withdraw(3500)\n",
    "print(\"Account balance:\", my_account.get_balance())"
   ]
  },
  {
   "cell_type": "code",
   "execution_count": null,
   "id": "adcc7189-0d5c-4261-9885-3b1e521bcf65",
   "metadata": {},
   "outputs": [],
   "source": [
    "#Q3. What is abc module in python? Why is it used?\n",
    "\n",
    "\"\"\"\n",
    "    In Python, the abc (abstract base classes) module provides the infrastructure for defining abstract base classes. \n",
    "    An abstract base class is a class that cannot be instantiated and is used to define a common interface for its subclasses.\n",
    "\n",
    "    The abc module provides the ABC class, which is a base class for defining abstract base classes. \n",
    "    To define an abstract method, you can use the @abstractmethod decorator. When a subclass inherits from an abstract base class, \n",
    "    it must implement all of the abstract methods defined in the base class.\n",
    "\n",
    "    It is used when there is no need to point because it has already been established what thing or person is being talked about.\n",
    "\"\"\""
   ]
  },
  {
   "cell_type": "code",
   "execution_count": null,
   "id": "0d512282-3cdb-4b28-9bae-55cc31b63efb",
   "metadata": {},
   "outputs": [],
   "source": [
    "#Q4. How can we achieve data abstraction?\n",
    "\"\"\"\n",
    "    In Python, we can achieve data abstraction through the use of access modifiers and abstract classes.\n",
    "\n",
    "    Access Modifiers: In Python, there are no true access modifiers like public, private, and protected, but we can use naming conventions to \n",
    "    indicate the intended visibility of an attribute or method. By convention, attributes or methods that begin with an underscore (_attribute) are \n",
    "    considered private and should not be accessed directly by users of the class.\n",
    "\n",
    "    Abstract Classes: Python supports abstract classes through the use of the abc (abstract base classes) module. An abstract class is a class that\n",
    "    cannot be instantiated and is used to define a common interface for its subclasses. To define an abstract method, we can use the \n",
    "    @abstractmethod decorator. \n",
    "    When a subclass inherits from an abstract base class, it must implement all of the abstract methods defined in the base class.\n",
    "\"\"\""
   ]
  },
  {
   "cell_type": "code",
   "execution_count": 24,
   "id": "033f8fc8-5b21-4840-97af-f8bb2c11c1db",
   "metadata": {},
   "outputs": [
    {
     "ename": "TypeError",
     "evalue": "Can't instantiate abstract class AbstractClass with abstract method my_method",
     "output_type": "error",
     "traceback": [
      "\u001b[0;31m---------------------------------------------------------------------------\u001b[0m",
      "\u001b[0;31mTypeError\u001b[0m                                 Traceback (most recent call last)",
      "Cell \u001b[0;32mIn[24], line 15\u001b[0m\n\u001b[1;32m     11\u001b[0m     \u001b[38;5;129m@abstractmethod\u001b[39m\n\u001b[1;32m     12\u001b[0m     \u001b[38;5;28;01mdef\u001b[39;00m \u001b[38;5;21mmy_method\u001b[39m(\u001b[38;5;28mself\u001b[39m):\n\u001b[1;32m     13\u001b[0m         \u001b[38;5;28;01mpass\u001b[39;00m\n\u001b[0;32m---> 15\u001b[0m my_instance \u001b[38;5;241m=\u001b[39m \u001b[43mAbstractClass\u001b[49m\u001b[43m(\u001b[49m\u001b[43m)\u001b[49m\n",
      "\u001b[0;31mTypeError\u001b[0m: Can't instantiate abstract class AbstractClass with abstract method my_method"
     ]
    }
   ],
   "source": [
    "#Q5. Can we create an instance of an abstract class? Explain your answer.\n",
    "\"\"\"\n",
    "    No, we cannot create an instance of an abstract class in Python or any other object-oriented programming language. \n",
    "    An abstract class is a class that contains one or more abstract methods, which are methods without any implementation. \n",
    "    Abstract classes are meant to be used as base classes for concrete subclasses, and they cannot be instantiated directly.\n",
    "\"\"\"\n",
    "\n",
    "from abc import ABC, abstractmethod\n",
    "\n",
    "class AbstractClass(ABC):\n",
    "    @abstractmethod\n",
    "    def my_method(self):\n",
    "        pass\n",
    "\n",
    "my_instance = AbstractClass()"
   ]
  }
 ],
 "metadata": {
  "kernelspec": {
   "display_name": "Python 3 (ipykernel)",
   "language": "python",
   "name": "python3"
  },
  "language_info": {
   "codemirror_mode": {
    "name": "ipython",
    "version": 3
   },
   "file_extension": ".py",
   "mimetype": "text/x-python",
   "name": "python",
   "nbconvert_exporter": "python",
   "pygments_lexer": "ipython3",
   "version": "3.10.8"
  }
 },
 "nbformat": 4,
 "nbformat_minor": 5
}
